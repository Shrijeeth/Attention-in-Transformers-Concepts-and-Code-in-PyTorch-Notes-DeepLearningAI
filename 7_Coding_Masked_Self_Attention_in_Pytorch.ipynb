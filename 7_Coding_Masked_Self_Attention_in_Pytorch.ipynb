{
 "cells": [
  {
   "cell_type": "markdown",
   "id": "2f196083",
   "metadata": {},
   "source": [
    "# Coding Masked Self-Attention in PyTorch\n",
    "\n",
    "A hands-on lesson to implement masked (causal) self-attention in PyTorch, verify the math step-by-step, and understand how the causal mask works.\n",
    "\n",
    "![Transformer architecture diagram (Wikimedia Commons)](https://commons.wikimedia.org/wiki/Special:FilePath/Transformer%2C_full_architecture.png)\n",
    "\n",
    "- Paper: [Attention Is All You Need (Vaswani et al., 2017)](https://arxiv.org/abs/1706.03762)\n",
    "- Visual guide: [The Illustrated Transformer (Jay Alammar)](https://jalammar.github.io/illustrated-transformer/)\n",
    "- Interactive: [Transformer Explainer (GPT‑2 attention)](https://poloclub.github.io/transformer-explainer/)\n",
    "- PyTorch docs: [nn.MultiheadAttention](https://docs.pytorch.org/docs/stable/generated/torch.nn.MultiheadAttention.html)"
   ]
  },
  {
   "cell_type": "markdown",
   "id": "e6914a37",
   "metadata": {},
   "source": [
    "## Imports and prerequisites\n",
    "\n",
    "We use PyTorch to implement masked self-attention:\n",
    "\n",
    "- `torch`: tensors and linear algebra helpers.\n",
    "- `torch.nn` (`nn`): layers like `Linear` and base class `Module`.\n",
    "- `torch.nn.functional` (`F`): stateless ops like `softmax` used in attention.\n",
    "\n",
    "Note: Tensors are multi-dimensional arrays optimized for neural networks."
   ]
  },
  {
   "cell_type": "code",
   "execution_count": 15,
   "id": "9e133512",
   "metadata": {},
   "outputs": [],
   "source": [
    "import torch\n",
    "import torch.nn as nn\n",
    "import torch.nn.functional as F"
   ]
  },
  {
   "cell_type": "markdown",
   "id": "00ec9848",
   "metadata": {},
   "source": [
    "## Implementing the `MaskedSelfAttention` class\n",
    "\n",
    "We implement masked self-attention as a standard `nn.Module` and add support for an optional mask.\n",
    "\n",
    "### Init arguments\n",
    "\n",
    "| Argument | Meaning | Why it matters |\n",
    "| --- | --- | --- |\n",
    "| `d_model` | Features per token (embedding size after positions) | Sets sizes of `W_q`, `W_k`, `W_v` |\n",
    "| `row_dim` | Axis for rows in matmul/transposes | Controls `K.T` behavior |\n",
    "| `col_dim` | Axis for columns/softmax | Controls softmax dimension and sqrt(d_k) extraction |\n",
    "\n",
    "- Three `nn.Linear` layers (no bias) parameterize `W_q`, `W_k`, `W_v`.\n",
    "- Following the original Transformer, attention projections typically omit bias terms.\n",
    "\n",
    "### Forward pass with causal mask\n",
    "\n",
    "```text\n",
    "q = W_q(X)\n",
    "k = W_k(X)\n",
    "v = W_v(X)\n",
    "S = q · k^T\n",
    "S_scaled = S / sqrt(d_k)\n",
    "if mask is not None:\n",
    "    S_scaled = S_scaled.masked_fill(mask, -1e9)\n",
    "A = softmax(S_scaled, dim=col_dim)\n",
    "O = A · v\n",
    "```\n",
    "\n",
    "- `mask` is boolean: `True` = disallow (gets `-1e9`), `False` = allow (adds 0).\n",
    "- This yields causal (look-ahead) masking for decoder-style attention."
   ]
  },
  {
   "cell_type": "markdown",
   "id": "370859ad",
   "metadata": {},
   "source": [
    "## Implementing the `MaskedSelfAttention` class\n",
    "\n",
    "We implement masked self-attention as a standard `nn.Module` and add support for an optional mask.\n",
    "\n",
    "### Init arguments\n",
    "\n",
    "| Argument | Meaning | Why it matters |\n",
    "| --- | --- | --- |\n",
    "| `d_model` | Features per token (embedding size after positions) | Sets sizes of `W_q`, `W_k`, `W_v` |\n",
    "| `row_dim` | Axis for rows in matmul/transposes | Controls `K.T` behavior |\n",
    "| `col_dim` | Axis for columns/softmax | Controls softmax dimension and sqrt(d_k) extraction |\n",
    "\n",
    "- Three `nn.Linear` layers (no bias) parameterize `W_q`, `W_k`, `W_v`.\n",
    "- Following the original Transformer, attention projections typically omit bias terms.\n",
    "\n",
    "### Forward pass with causal mask\n",
    "\n",
    "```text\n",
    "q = W_q(X)\n",
    "k = W_k(X)\n",
    "v = W_v(X)\n",
    "S = q · k^T\n",
    "S_scaled = S / sqrt(d_k)\n",
    "if mask is not None:\n",
    "    S_scaled = S_scaled.masked_fill(mask, -1e9)\n",
    "A = softmax(S_scaled, dim=col_dim)\n",
    "O = A · v\n",
    "```\n",
    "\n",
    "- `mask` is boolean: `True` = disallow (gets `-1e9`), `False` = allow (adds 0).\n",
    "- This yields causal (look-ahead) masking for decoder-style attention."
   ]
  },
  {
   "cell_type": "markdown",
   "id": "b5be032d",
   "metadata": {},
   "source": [
    "## Sample token encodings (toy example)\n",
    "\n",
    "We’ll reuse the same tiny 2D encodings so we can verify all math by hand.\n",
    "\n",
    "- Shape: `encodings_matrix` is `n_tokens × d_model = 3 × 2`.\n",
    "- In practice, `d_model` is often much larger (e.g., 512), but 2 keeps examples simple.\n",
    "\n",
    "| Token index | Encoded values (example) |\n",
    "| --- | --- |\n",
    "| 0 | [1.16, 0.23] |\n",
    "| 1 | [0.57, 1.36] |\n",
    "| 2 | [4.41, -2.16] |"
   ]
  },
  {
   "cell_type": "markdown",
   "id": "495ff528",
   "metadata": {},
   "source": [
    "## Seeding, instantiation, and causal mask\n",
    "\n",
    "We use a fixed seed for reproducibility and instantiate the masked self-attention module.\n",
    "\n",
    "- `torch.manual_seed(42)`: deterministic weights/outputs for this demo.\n",
    "- `MaskedSelfAttention(d_model=2, row_dim=0, col_dim=1)`: 2 features per token; softmax along dim=1.\n",
    "\n",
    "### Building a causal (look-ahead) mask\n",
    "\n",
    "We want each token i to attend only to tokens ≤ i.\n",
    "\n",
    "- Start with ones: `torch.ones(n, n)`.\n",
    "- Keep the lower triangle (incl. diagonal): `torch.tril(...)`.\n",
    "- Convert to boolean \"disallow\" mask by comparing to zero: `mask = (tril == 0)`.\n",
    "  - `True` → disallow (will become −1e9 via `masked_fill`).\n",
    "  - `False` → allow (adds 0).\n",
    "\n",
    "Result: a lower-triangular allow-pattern that prevents looking ahead."
   ]
  },
  {
   "cell_type": "code",
   "execution_count": 16,
   "id": "649be33a",
   "metadata": {},
   "outputs": [],
   "source": [
    "class MaskedSelfAttention(nn.Module):\n",
    "    def __init__(self, d_model=2, row_dim=2, col_dim=2):\n",
    "        super().__init__()\n",
    "\n",
    "        self.d_model = d_model\n",
    "        self.row_dim = row_dim\n",
    "        self.col_dim = col_dim\n",
    "\n",
    "        self.W_q = nn.Linear(d_model, d_model, bias=False)\n",
    "        self.W_k = nn.Linear(d_model, d_model, bias=False)\n",
    "        self.W_v = nn.Linear(d_model, d_model, bias=False)\n",
    "\n",
    "    def forward(self, token_encodings, mask=None):\n",
    "        q = self.W_q(token_encodings)\n",
    "        k = self.W_k(token_encodings)\n",
    "        v = self.W_v(token_encodings)\n",
    "\n",
    "        sims = q @ k.T\n",
    "        scaled_sims = sims / torch.tensor(k.size(self.col_dim)**0.5)\n",
    "\n",
    "        if mask is not None:\n",
    "            scaled_sims = scaled_sims.masked_fill(mask=mask, value=-1e9)\n",
    "\n",
    "        attention_percents = F.softmax(scaled_sims, dim=self.col_dim)\n",
    "        attention_scores = torch.matmul(attention_percents, v)\n",
    "\n",
    "        return attention_scores"
   ]
  },
  {
   "cell_type": "code",
   "execution_count": 17,
   "id": "0ac0fe25",
   "metadata": {},
   "outputs": [],
   "source": [
    "encodings_matrix = torch.tensor([\n",
    "    [1.16, 0.23],\n",
    "    [0.57, 1.36],\n",
    "    [4.41, -2.16],\n",
    "])"
   ]
  },
  {
   "cell_type": "code",
   "execution_count": 18,
   "id": "65849d5a",
   "metadata": {},
   "outputs": [
    {
     "data": {
      "text/plain": [
       "tensor([[False,  True,  True],\n",
       "        [False, False,  True],\n",
       "        [False, False, False]])"
      ]
     },
     "execution_count": 18,
     "metadata": {},
     "output_type": "execute_result"
    }
   ],
   "source": [
    "torch.manual_seed(42)\n",
    "\n",
    "masked_self_attention = MaskedSelfAttention(d_model=2, row_dim=0, col_dim=1)\n",
    "mask = torch.tril(torch.ones(3, 3))\n",
    "mask = mask == 0\n",
    "\n",
    "mask"
   ]
  },
  {
   "cell_type": "code",
   "execution_count": 19,
   "id": "fa2f9f3d",
   "metadata": {},
   "outputs": [
    {
     "data": {
      "text/plain": [
       "tensor([[ 0.6038,  0.7434],\n",
       "        [-0.0062,  0.6072],\n",
       "        [ 3.4989,  2.2427]], grad_fn=<MmBackward0>)"
      ]
     },
     "execution_count": 19,
     "metadata": {},
     "output_type": "execute_result"
    }
   ],
   "source": [
    "original_output = masked_self_attention(encodings_matrix, mask)\n",
    "original_output"
   ]
  },
  {
   "cell_type": "markdown",
   "id": "ee3bd478",
   "metadata": {},
   "source": [
    "### Validate Weights and Manual Calculations\n",
    "\n",
    "Now we’ll inspect the learned (randomly initialized) weights and validate the math.\n",
    "\n",
    "- We transpose `weight` for readability because of how PyTorch stores/prints linear layer weights.\n",
    "- By combining the printed `W_q`, `W_k`, `W_v` with the original encodings, you can recompute Q, K, V and verify each step by hand.\n",
    "- This confirms our implementation matches the scaled dot-product attention math."
   ]
  },
  {
   "cell_type": "code",
   "execution_count": 20,
   "id": "11177896",
   "metadata": {},
   "outputs": [
    {
     "data": {
      "text/plain": [
       "tensor([[ 0.7621, -0.0428],\n",
       "        [ 1.1063,  0.7890],\n",
       "        [ 1.1164, -2.1336]], grad_fn=<MmBackward0>)"
      ]
     },
     "execution_count": 20,
     "metadata": {},
     "output_type": "execute_result"
    }
   ],
   "source": [
    "q = masked_self_attention.W_q(encodings_matrix)\n",
    "q"
   ]
  },
  {
   "cell_type": "code",
   "execution_count": 21,
   "id": "22a4059d",
   "metadata": {},
   "outputs": [
    {
     "data": {
      "text/plain": [
       "tensor([[-0.1469, -0.3038],\n",
       "        [ 0.1057,  0.3685],\n",
       "        [-0.9914, -2.4152]], grad_fn=<MmBackward0>)"
      ]
     },
     "execution_count": 21,
     "metadata": {},
     "output_type": "execute_result"
    }
   ],
   "source": [
    "k = masked_self_attention.W_k(encodings_matrix)\n",
    "k"
   ]
  },
  {
   "cell_type": "code",
   "execution_count": 22,
   "id": "67a53aad",
   "metadata": {},
   "outputs": [
    {
     "data": {
      "text/plain": [
       "tensor([[ 0.6038,  0.7434],\n",
       "        [-0.3502,  0.5303],\n",
       "        [ 3.8695,  2.4246]], grad_fn=<MmBackward0>)"
      ]
     },
     "execution_count": 22,
     "metadata": {},
     "output_type": "execute_result"
    }
   ],
   "source": [
    "v = masked_self_attention.W_v(encodings_matrix)\n",
    "v"
   ]
  },
  {
   "cell_type": "code",
   "execution_count": 23,
   "id": "2f769760",
   "metadata": {},
   "outputs": [
    {
     "data": {
      "text/plain": [
       "tensor([[-0.0990,  0.0648, -0.6523],\n",
       "        [-0.4022,  0.4078, -3.0024],\n",
       "        [ 0.4842, -0.6683,  4.0461]], grad_fn=<MmBackward0>)"
      ]
     },
     "execution_count": 23,
     "metadata": {},
     "output_type": "execute_result"
    }
   ],
   "source": [
    "sims = torch.matmul(q, k.transpose(dim0=0, dim1=1))\n",
    "sims"
   ]
  },
  {
   "cell_type": "code",
   "execution_count": 24,
   "id": "35c8e154",
   "metadata": {},
   "outputs": [
    {
     "data": {
      "text/plain": [
       "tensor([[-0.0700,  0.0458, -0.4612],\n",
       "        [-0.2844,  0.2883, -2.1230],\n",
       "        [ 0.3424, -0.4725,  2.8610]], grad_fn=<DivBackward0>)"
      ]
     },
     "execution_count": 24,
     "metadata": {},
     "output_type": "execute_result"
    }
   ],
   "source": [
    "scaled_sims = sims / (torch.tensor(2)**0.5)\n",
    "scaled_sims"
   ]
  },
  {
   "cell_type": "code",
   "execution_count": 25,
   "id": "886f45b2",
   "metadata": {},
   "outputs": [
    {
     "data": {
      "text/plain": [
       "tensor([[-6.9975e-02, -1.0000e+09, -1.0000e+09],\n",
       "        [-2.8442e-01,  2.8833e-01, -1.0000e+09],\n",
       "        [ 3.4241e-01, -4.7253e-01,  2.8610e+00]],\n",
       "       grad_fn=<MaskedFillBackward0>)"
      ]
     },
     "execution_count": 25,
     "metadata": {},
     "output_type": "execute_result"
    }
   ],
   "source": [
    "masked_scaled_sims = scaled_sims.masked_fill(mask=mask, value=-1e9)\n",
    "masked_scaled_sims"
   ]
  },
  {
   "cell_type": "code",
   "execution_count": 26,
   "id": "4de14849",
   "metadata": {},
   "outputs": [
    {
     "data": {
      "text/plain": [
       "tensor([[1.0000, 0.0000, 0.0000],\n",
       "        [0.3606, 0.6394, 0.0000],\n",
       "        [0.0722, 0.0320, 0.8959]], grad_fn=<SoftmaxBackward0>)"
      ]
     },
     "execution_count": 26,
     "metadata": {},
     "output_type": "execute_result"
    }
   ],
   "source": [
    "attention_percents = F.softmax(masked_scaled_sims, dim=1)\n",
    "attention_percents"
   ]
  },
  {
   "cell_type": "code",
   "execution_count": 27,
   "id": "edbe0cbe",
   "metadata": {},
   "outputs": [
    {
     "data": {
      "text/plain": [
       "tensor([[ 0.6038,  0.7434],\n",
       "        [-0.0062,  0.6072],\n",
       "        [ 3.4989,  2.2427]], grad_fn=<MmBackward0>)"
      ]
     },
     "execution_count": 27,
     "metadata": {},
     "output_type": "execute_result"
    }
   ],
   "source": [
    "final_output = torch.matmul(attention_percents, masked_self_attention.W_v(encodings_matrix))\n",
    "final_output\n"
   ]
  },
  {
   "cell_type": "code",
   "execution_count": 28,
   "id": "dfa08562",
   "metadata": {},
   "outputs": [
    {
     "data": {
      "text/plain": [
       "tensor([[True, True],\n",
       "        [True, True],\n",
       "        [True, True]])"
      ]
     },
     "execution_count": 28,
     "metadata": {},
     "output_type": "execute_result"
    }
   ],
   "source": [
    "original_output == final_output"
   ]
  }
 ],
 "metadata": {
  "kernelspec": {
   "display_name": "Python 3",
   "language": "python",
   "name": "python3"
  },
  "language_info": {
   "codemirror_mode": {
    "name": "ipython",
    "version": 3
   },
   "file_extension": ".py",
   "mimetype": "text/x-python",
   "name": "python",
   "nbconvert_exporter": "python",
   "pygments_lexer": "ipython3",
   "version": "3.14.0"
  }
 },
 "nbformat": 4,
 "nbformat_minor": 5
}
